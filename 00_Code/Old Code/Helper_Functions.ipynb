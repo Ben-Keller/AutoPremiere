{
 "cells": [
  {
   "cell_type": "code",
   "execution_count": 1,
   "id": "e55ee956",
   "metadata": {},
   "outputs": [],
   "source": [
    "import re\n",
    "import pandas as pd\n"
   ]
  },
  {
   "cell_type": "markdown",
   "id": "e4bb2296",
   "metadata": {},
   "source": [
    "<h3> Helper functions </h3>"
   ]
  },
  {
   "cell_type": "code",
   "execution_count": null,
   "id": "5437ff9b",
   "metadata": {},
   "outputs": [],
   "source": []
  },
  {
   "cell_type": "code",
   "execution_count": null,
   "id": "d07793d5",
   "metadata": {},
   "outputs": [],
   "source": []
  },
  {
   "cell_type": "code",
   "execution_count": null,
   "id": "e6b087a9",
   "metadata": {},
   "outputs": [],
   "source": [
    "def clean_text(text):\n",
    "    # Remove special characters from the text\n",
    "    cleaned_text = re.sub(r\"[^\\w\\s]\", \"\", text)\n",
    "    return cleaned_text\n",
    "\n",
    "#clean_text(\"abcd$$\")   #test"
   ]
  },
  {
   "cell_type": "code",
   "execution_count": null,
   "id": "4b9a348a",
   "metadata": {},
   "outputs": [],
   "source": [
    "def match_line(line, narrator, df):\n",
    "    cleaned_line = clean_text(line.lower())  \n",
    "    matched_rows = []\n",
    "\n",
    "    #df=df[df[\"NARRATOR\"].str.lower()==narrator]\n",
    "#    print(df)\n",
    "\n",
    "    for index,row in df.iterrows():\n",
    "        text = clean_text(str(row['TEXT']).lower())\n",
    "        if cleaned_line in text:\n",
    "            matched_rows.append(row) \n",
    "    matched_rows_df = pd.concat(matched_rows, axis=1).transpose() if matched_rows else pd.DataFrame()\n",
    "    return matched_rows_df\n",
    "\n",
    "\n",
    "##add test here"
   ]
  },
  {
   "cell_type": "code",
   "execution_count": null,
   "id": "cec67357",
   "metadata": {},
   "outputs": [],
   "source": [
    "def get_character_indices(full_string, substring):\n",
    "    full_list = list(full_string.lower())\n",
    "    sub_list = list(substring.lower())\n",
    "    length = len(sub_list)\n",
    "    \n",
    "    for i in range(len(full_list)):\n",
    "        if full_list[i:i+length] == sub_list:\n",
    "            return i, i+length\n",
    "    return None, None\n",
    "\n",
    "get_character_indices(\"abc def iopoi\",\"def\")   #test"
   ]
  },
  {
   "cell_type": "code",
   "execution_count": null,
   "id": "f7c46871",
   "metadata": {},
   "outputs": [],
   "source": [
    "#Extract Lines from Txt for the clip extraction\n",
    "\n",
    "def extract_narrator_from_filename(filename):\n",
    "    \"\"\"Extracts the narrator's name from the filename.\"\"\"\n",
    "    return filename.split('-')[0].strip()\n",
    "\n",
    "def convert_time_format(time_str):\n",
    "    \"\"\"Converts the time format from 'minutes:seconds' to 'hours:minutes:seconds:frames'.\"\"\"\n",
    "    minutes, seconds = map(int, time_str.split(':'))\n",
    "    hours = minutes // 60\n",
    "    minutes = minutes % 60\n",
    "    frames = int((seconds % 1) * 30)  # Assuming 30 frames per second\n",
    "    return f\"{hours:02}:{minutes:02}:{seconds:02}:{frames:02}\"\n",
    "\n",
    "def txt_to_csv(txt_path, csv_path):\n",
    "    # Extract the narrator name from the filename\n",
    "    narrator = extract_narrator_from_filename(txt_path)\n",
    "    \n",
    "    # Load the txt file\n",
    "    with open(txt_path, 'r') as file:\n",
    "        doc_text = file.read()\n",
    "    \n",
    "    # Regular expression to match timecode-text pairs\n",
    "    pattern = re.compile(r'(\\d{2}:\\d{2}-\\d{2}:\\d{2})\\s*(.*?)\\s*(?=\\d{2}:\\d{2}-\\d{2}:\\d{2}|$)', re.DOTALL)\n",
    "    \n",
    "    # Extract matches\n",
    "    matches = pattern.findall(doc_text)\n",
    "    \n",
    "    # Convert time format and prepare data for CSV\n",
    "    csv_data = []\n",
    "    for timecode, text in matches:\n",
    "        start_time, end_time = timecode.split('-')\n",
    "        csv_data.append({\n",
    "            'TEXT': text.strip(),\n",
    "            'Narrator': narrator,\n",
    "            'TIME': f\"{convert_time_format(start_time)} - {convert_time_format(end_time)}\",\n",
    "            'FilePath': txt_path\n",
    "        })\n",
    "    \n",
    "    # Save to CSV\n",
    "    df = pd.DataFrame(csv_data)\n",
    "    df.to_csv(csv_path, index=False)\n",
    "\n",
    "\n",
    "\n"
   ]
  },
  {
   "cell_type": "markdown",
   "id": "738225a9",
   "metadata": {},
   "source": []
  },
  {
   "cell_type": "code",
   "execution_count": null,
   "id": "6d9ea345",
   "metadata": {},
   "outputs": [],
   "source": []
  },
  {
   "cell_type": "code",
   "execution_count": null,
   "id": "96e82054",
   "metadata": {},
   "outputs": [],
   "source": []
  },
  {
   "cell_type": "code",
   "execution_count": null,
   "id": "77830043",
   "metadata": {},
   "outputs": [],
   "source": [
    "#####all below here need to be checked where they are used"
   ]
  },
  {
   "cell_type": "code",
   "execution_count": null,
   "id": "33e0d804",
   "metadata": {},
   "outputs": [],
   "source": [
    "\n"
   ]
  },
  {
   "cell_type": "code",
   "execution_count": null,
   "id": "c685d450",
   "metadata": {},
   "outputs": [],
   "source": [
    "\n",
    "#     # Function to convert time format to seconds\n",
    "# def time_to_seconds(time_str):\n",
    "#     time_obj = datetime.strptime(str(time_str), \"%M:%S\")\n",
    "#     return time_obj.minute * 60 + time_obj.second"
   ]
  },
  {
   "cell_type": "code",
   "execution_count": null,
   "id": "cdbc2fc8",
   "metadata": {},
   "outputs": [],
   "source": []
  },
  {
   "cell_type": "code",
   "execution_count": null,
   "id": "7bb1777e",
   "metadata": {},
   "outputs": [],
   "source": []
  },
  {
   "cell_type": "code",
   "execution_count": null,
   "id": "1673dcd0",
   "metadata": {},
   "outputs": [],
   "source": [
    "# Function to convert time format to seconds\n",
    "def time_to_seconds(time_str):\n",
    "    time_obj=time_str.split(\":\")\n",
    "    if len(time_obj)==2:\n",
    "        return int(time_obj[0]) * 60 + int(time_obj[1])\n",
    "    if len(time_obj)==3:\n",
    "        return int(time_obj[0]) * 60 + int(time_obj[1])+ int(time_obj[2])/24\n",
    "    else:\n",
    "        print(\"time obj broken\")\n",
    "        return 0"
   ]
  }
 ],
 "metadata": {
  "kernelspec": {
   "display_name": "Python 3 (ipykernel)",
   "language": "python",
   "name": "python3"
  },
  "language_info": {
   "codemirror_mode": {
    "name": "ipython",
    "version": 3
   },
   "file_extension": ".py",
   "mimetype": "text/x-python",
   "name": "python",
   "nbconvert_exporter": "python",
   "pygments_lexer": "ipython3",
   "version": "3.10.6"
  }
 },
 "nbformat": 4,
 "nbformat_minor": 5
}
