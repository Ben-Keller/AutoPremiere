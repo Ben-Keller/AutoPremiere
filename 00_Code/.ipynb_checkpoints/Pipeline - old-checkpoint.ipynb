{
 "cells": [
  {
   "cell_type": "markdown",
   "id": "eb74a2fa",
   "metadata": {},
   "source": [
    "<h2>AutoPremiere Processing Pipeline</h2>\n",
    "\n",
    "<p>This script runs the full autopremiere pipeline including processing of transcripts, scripts, subtitles, and xml files. </p>"
   ]
  },
  {
   "cell_type": "code",
   "execution_count": null,
   "id": "66c06b8b",
   "metadata": {},
   "outputs": [],
   "source": [
    "### set project id\n",
    "### \n",
    "\n",
    "### run script to convert all transcripts to csv and srt\n",
    "### run script to convert "
   ]
  },
  {
   "cell_type": "code",
   "execution_count": null,
   "id": "88d6d3ee",
   "metadata": {},
   "outputs": [],
   "source": []
  },
  {
   "cell_type": "code",
   "execution_count": null,
   "id": "ae66b19c",
   "metadata": {},
   "outputs": [],
   "source": [
    "##imports\n",
    "\n",
    "import os\n",
    "import pandas as pd\n",
    "import re\n",
    "from datetime import datetime, timedelta\n",
    "import csv\n",
    "import xml.etree.ElementTree as ET\n",
    "import copy\n",
    "import random\n",
    "import uuid\n",
    "# from docx import Document\n",
    "\n",
    "%run Helper_Functions.ipynb\n",
    "%run XML_Generator.ipynb\n",
    "%run Subtitle_Generator.ipynb"
   ]
  },
  {
   "cell_type": "code",
   "execution_count": null,
   "id": "722498b2",
   "metadata": {},
   "outputs": [],
   "source": [
    "\n",
    "##global paths\n",
    "\n",
    "csv_folder_path = \"../Interview CSV\"\n",
    "script_path = \"../Script/test script.txt\"\n",
    "script_csv_output_path = \"../Script/script_export.csv\"\n",
    "script_merged_csv_output_path = \"../Script/script_export_merged.csv\"\n",
    "final_subtitle_file = \"../Script/script.srt\"\n",
    "\n",
    "exported_xml_project_name= 'testy'\n",
    "folder_path = \"../Interview TXT\"\n"
   ]
  },
  {
   "cell_type": "markdown",
   "id": "6d8efbf8",
   "metadata": {},
   "source": [
    "<h3> Transcript Processing </h3>"
   ]
  },
  {
   "cell_type": "code",
   "execution_count": 1,
   "id": "0fe14625",
   "metadata": {},
   "outputs": [
    {
     "ename": "SyntaxError",
     "evalue": "invalid syntax (3528962774.py, line 16)",
     "output_type": "error",
     "traceback": [
      "\u001b[0;36m  Input \u001b[0;32mIn [1]\u001b[0;36m\u001b[0m\n\u001b[0;31m    folderpath=###\u001b[0m\n\u001b[0m               ^\u001b[0m\n\u001b[0;31mSyntaxError\u001b[0m\u001b[0;31m:\u001b[0m invalid syntax\n"
     ]
    }
   ],
   "source": [
    "##Run this to regenerate the srt and csv files for all transcript txt files\n",
    "\n",
    "# Convert transcripts texts to subtitles\n",
    "transcripts = os.listdir()  # Assuming this contains the filenames of transcript files\n",
    "for transcript in transcripts:\n",
    "    # Open the transcript file\n",
    "    transcript_text = open_transcript(transcript)  # Implement a function to open the transcript file\n",
    "\n",
    "    # Convert the transcript text to SRT format\n",
    "    srt_content = convert_transcript_to_srt(transcript_text)  # Implement a function for this\n",
    "\n",
    "    # Save the SRT content to a new file with the same name but .srt extension\n",
    "    save_srt_file(transcript, srt_content)  # Implement a function to save the SRT file\n",
    "\n",
    "# Convert transcripts from txt to csv\n",
    "folderpath=###\n",
    "for filename in os.listdir(folder_path):\n",
    "    if filename.endswith('.txt'):\n",
    "        txt_file_path = os.path.join(folder_path, filename)\n",
    "        csv_file_path = os.path.join(csv_folder_path, os.path.splitext(filename)[0] + '.csv')\n",
    "        # print(f\"Converting {txt_file_path} to {csv_file_path}\")\n",
    "        txt_to_csv(txt_file_path, csv_file_path)"
   ]
  },
  {
   "cell_type": "markdown",
   "id": "ede365a3",
   "metadata": {},
   "source": [
    "<h3> Script Processing </h3>"
   ]
  },
  {
   "cell_type": "code",
   "execution_count": null,
   "id": "a8c8cc0a",
   "metadata": {},
   "outputs": [],
   "source": [
    "##Run this to regenerate the srt and csv files for all script txt files\n",
    "\n",
    "\n",
    "# Convert scripts to subtitles\n",
    "scripts = os.listdir()  # Assuming this contains the filenames of script files\n",
    "for script in scripts:\n",
    "    # Open the script file\n",
    "    script_text = open_script(script)  # Implement a function to open the script file\n",
    "\n",
    "    # Convert the script text to SRT format\n",
    "    srt_content = convert_script_to_srt(script_text)  # Implement a function for this\n",
    "\n",
    "    # Save the SRT content to a new file with the same name but .srt extension\n",
    "    save_srt_file(script, srt_content)  # Implement a function to save the SRT file\n",
    "\n",
    "# Convert scripts from txt to csv\n",
    "folderpath=###\n",
    "for filename in os.listdir(folder_path):\n",
    "    if filename.endswith('.txt'):\n",
    "        txt_file_path = os.path.join(folder_path, filename)\n",
    "        csv_file_path = os.path.join(csv_folder_path, os.path.splitext(filename)[0] + '.csv')\n",
    "        # print(f\"Converting {txt_file_path} to {csv_file_path}\")\n",
    "        txt_to_csv(txt_file_path, csv_file_path)"
   ]
  },
  {
   "cell_type": "markdown",
   "id": "e6ad6429",
   "metadata": {},
   "source": [
    "<h3>Generate XMLs from Scripts</h3>"
   ]
  },
  {
   "cell_type": "code",
   "execution_count": null,
   "id": "2698b856",
   "metadata": {},
   "outputs": [],
   "source": [
    "##Run this to regenerate all xml files in the auto-export folder\n",
    "\n",
    "# Use script CSV and interview XMLs to generate project XML\n",
    "match_script_to_csv(script_path).to_csv(script_csv_output_path)\n",
    "merge_consecutive_rows(script_csv_output_path).to_csv(script_merged_csv_output_path)\n",
    "\n",
    "run_extraction(script_merged_csv_output_path,exported_xml_project_name) ##main extraction function\n",
    "\n",
    "\n",
    "\n",
    "\n",
    "\n",
    "\n",
    "\n",
    "\n",
    "\n"
   ]
  }
 ],
 "metadata": {
  "kernelspec": {
   "display_name": "Python 3 (ipykernel)",
   "language": "python",
   "name": "python3"
  },
  "language_info": {
   "codemirror_mode": {
    "name": "ipython",
    "version": 3
   },
   "file_extension": ".py",
   "mimetype": "text/x-python",
   "name": "python",
   "nbconvert_exporter": "python",
   "pygments_lexer": "ipython3",
   "version": "3.10.6"
  }
 },
 "nbformat": 4,
 "nbformat_minor": 5
}
