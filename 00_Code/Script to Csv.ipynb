{
 "cells": [
  {
   "cell_type": "code",
   "execution_count": 106,
   "id": "c8484077",
   "metadata": {},
   "outputs": [],
   "source": [
    "import os\n",
    "import pandas as pd\n",
    "import docx\n",
    "import re\n",
    "import csv\n",
    "from difflib import SequenceMatcher, get_close_matches"
   ]
  },
  {
   "cell_type": "code",
   "execution_count": 107,
   "id": "cee0f688",
   "metadata": {},
   "outputs": [],
   "source": [
    "project_id=\"Test\"\n",
    "script_title = \"wolunka-test\""
   ]
  },
  {
   "cell_type": "code",
   "execution_count": null,
   "id": "9c2ecee4",
   "metadata": {},
   "outputs": [],
   "source": []
  },
  {
   "cell_type": "code",
   "execution_count": 108,
   "id": "05bcb66d",
   "metadata": {},
   "outputs": [],
   "source": [
    "def exportNewScriptRow(matched_row,text):\n",
    "    start_time_str = matched_row[\"Start Time\"]\n",
    "    start_time = convert_time_to_seconds(start_time_str)\n",
    "    transcript_duration=convert_time_to_seconds(matched_row[\"End Time\"]) - convert_time_to_seconds(matched_row[\"Start Time\"])                    \n",
    "    offset = find_start_character_index(matched_row[\"EN\"],text[:8], cutoff=.8)\n",
    "    seconds_per_letter =transcript_duration / len(matched_row[\"EN\"])\n",
    "    start_time+=offset*seconds_per_letter\n",
    "    duration_seconds = len(text) * seconds_per_letter\n",
    "    end_time = start_time + duration_seconds\n",
    "\n",
    "    start_time_mmss = format_time(int(start_time))\n",
    "    end_time_mmss = format_time(int(end_time))\n",
    "    return start_time_mmss,end_time_mmss,duration_seconds"
   ]
  },
  {
   "cell_type": "code",
   "execution_count": 109,
   "id": "c6bd0cce",
   "metadata": {},
   "outputs": [],
   "source": [
    "\n",
    "\n",
    "# Function to convert different time formats to seconds (unchanged)\n",
    "def convert_time_to_seconds(time_str):\n",
    "    try:\n",
    "        if ':' in time_str:\n",
    "            parts = time_str.split(':')\n",
    "            if len(parts) == 2:\n",
    "                minutes, seconds = map(int, parts)\n",
    "                return minutes * 60 + seconds\n",
    "\n",
    "        parts = time_str.split(':')\n",
    "        if len(parts) == 3 or len(parts) == 4:\n",
    "            hours, minutes, seconds, *milliseconds = map(int, parts)\n",
    "            total_seconds = hours * 3600 + minutes * 60 + seconds\n",
    "            if milliseconds:\n",
    "                total_seconds += milliseconds[0] / 100\n",
    "            return total_seconds\n",
    "    except ValueError:\n",
    "        pass\n",
    "\n",
    "    raise ValueError(f\"Unrecognized time format: {time_str}\")\n",
    "\n",
    "\n",
    "\n"
   ]
  },
  {
   "cell_type": "code",
   "execution_count": 110,
   "id": "5eea7d2b",
   "metadata": {},
   "outputs": [],
   "source": [
    "def find_start_character_index(string, subsequence, cutoff=0.6):\n",
    "\n",
    "    # Initialize the start index.\n",
    "    start_index = -1\n",
    "\n",
    "    # Iterate through the string using a sliding window approach.\n",
    "    for i in range(len(string) - len(subsequence) + 1):\n",
    "        window = string[i:i + len(subsequence)]\n",
    "\n",
    "        # Use difflib's SequenceMatcher to calculate similarity.\n",
    "        similarity = SequenceMatcher(None, subsequence, window).ratio()\n",
    "\n",
    "        # If the similarity exceeds the cutoff, consider it a match.\n",
    "        if similarity >= cutoff:\n",
    "            start_index = i\n",
    "            break\n",
    "\n",
    "    return start_index"
   ]
  },
  {
   "cell_type": "code",
   "execution_count": 111,
   "id": "de41e3fc",
   "metadata": {},
   "outputs": [],
   "source": [
    "    \n",
    "# Function to format time in MM:SS (unchanged)\n",
    "def format_time(seconds):\n",
    "    minutes, seconds = divmod(seconds, 60)\n",
    "    time= f\"{minutes:02d}:{seconds:02d}\"\n",
    "    return time"
   ]
  },
  {
   "cell_type": "code",
   "execution_count": 112,
   "id": "75cadbf4",
   "metadata": {},
   "outputs": [
    {
     "name": "stdout",
     "output_type": "stream",
     "text": [
      "[['Magalys', 'wolunka', '01:00', '01:04', 4.3809523809523805, 'I am glad to know the place where Wolunka was.'], ['Magalys', 'wolunka', '01:04', '01:07', 3.5238095238095237, 'We can talk a little more about that.'], ['Magalys', 'wolunka', '01:09', '01:11', 1.9999999999999998, 'I am going to tell you then the story of Wolunka.'], ['Magalys', 'wolunka', '01:14', '01:15', 1.0, 'This here'], ['Magalys', 'wolunka', '01:16', '01:21', 5.0, 'It is the stone of Wolunka, where he used to sit'], ['Magalys', 'wolunka', '00:24', '00:27', 3.8028169014084505, 'TRUE. In fact, in our culture it is necessary'], ['Magalys', 'wolunka', '00:27', '00:29', 2.112676056338028, 'let us know these stories'], ['Magalys', 'wolunka', '00:31', '00:36', 5.0, 'So that we continue to value these wonders that we have now'], ['Magalys', 'wolunka', '00:37', '00:41', 4.0, 'Since this is what our ancestors have left'], ['Magalys', 'wolunka', '00:41', '00:42', 1.9047619047619047, 'and our grandparents'], ['Magalys', 'wolunka', '00:01', '00:04', 3.7019230769230766, 'Well Neko, you are entering the Macuira mountain range.'], ['Magalys', 'wolunka', '00:04', '00:07', 3.230769230769231, 'These are land of the Arpushana (family lineage)'], ['Magalys', 'wolunka', '00:10', '00:14', 4.0, 'The story of Wolunka, happened in the land of the Arpushana.'], ['Magalys', 'wolunka', '00:16', '00:18', 2.6666666666666665, 'Here is the stone where Wolunka was that'], ['Magalys', 'wolunka', '00:18', '00:19', 1.2666666666666666, 'Day, as I told you.'], ['Magalys', 'wolunka', '00:44', '00:48', 4.0, \"That's why I'm here in your territory Magalys.\"], ['Magalys', 'wolunka', '00:49', '00:53', 4.032786885245901, \"See I come from the west and now I'm here\"], ['Magalys', 'wolunka', '00:53', '00:54', 1.8688524590163933, 'in the north. Yeah.'], ['Magalys', 'wolunka', '00:56', '00:58', 2.0, 'Where the Wayuu people originated.']]\n"
     ]
    }
   ],
   "source": [
    "\n",
    "# Function to match script text with transcript\n",
    "def match_script_with_transcript(docx_file_path, transcript_df):\n",
    "    doc = docx.Document(docx_file_path)\n",
    "    speaker = \"\"\n",
    "    next_row={\"EN\":\"temp\"}\n",
    "    matched_row={\"EN\":\"temp\"}\n",
    "    transcript_lines = []\n",
    "    for line in doc.paragraphs:\n",
    "        text = str(line.text.strip())\n",
    "        if any(char.isalpha() for char in text):\n",
    "            match = re.match(r'\\#([^, ]+)', text)\n",
    "            if match:##if the line is defining a new speaker because it in the form *Magalys\n",
    "                speaker = match.group(1)[1:]\n",
    "            else:\n",
    "\n",
    "                speaker_df=transcript_df[transcript_df[\"Speaker\"].str.contains(speaker.lower())]  \n",
    "\n",
    "                ##first try the next line after the previously searched for line\n",
    "                if text in next_row[\"EN\"]:\n",
    "                    matched_row=next_row\n",
    "                    \n",
    "                elif text in matched_row[\"EN\"]:\n",
    "                    matched_row=matched_row\n",
    "                    \n",
    "                else:\n",
    "                    closest_match = get_close_matches(text, speaker_df[\"EN\"].apply(float_to_str), n=1, cutoff=0.6)\n",
    "                    if closest_match:\n",
    "                        #print(closest_match,text)\n",
    "\n",
    "                        matched_row = speaker_df[speaker_df[\"EN\"] == closest_match[0]].iloc[0]\n",
    "\n",
    "\n",
    "                if closest_match or next_row[\"EN\"]==text:\n",
    "\n",
    "                    #this is a hacky way to get the next row but i could figure out a good index method\n",
    "                    getNextRow=False\n",
    "                    for index,row in speaker_df.iterrows():\n",
    "                        if getNextRow:\n",
    "                            next_row=row\n",
    "                            getNextRow=False\n",
    "                        elif row[\"EN\"]==matched_row[\"EN\"]:\n",
    "                            getNextRow=True\n",
    "\n",
    "                    start_time_mmss,end_time_mmss,duration_seconds=exportNewScriptRow(matched_row,text)\n",
    "                    interview=matched_row[\"Interview\"]\n",
    "                else:\n",
    "                    start_time_mmss=\"\"\n",
    "                    end_time_mmss=\"\"\n",
    "                    duration_seconds=\"\"\n",
    "                    interview=\"can't find\"\n",
    "\n",
    "                transcript_lines.append([speaker,interview, start_time_mmss, end_time_mmss, duration_seconds, text])                \n",
    "\n",
    "    return transcript_lines\n",
    "\n",
    "\n",
    "def float_to_str(value):\n",
    "    return str(value)\n",
    "            \n",
    "\n",
    "script_path = \"../01_Scripts/\"+project_id+\"/DOCX/\"+script_title+\".docx\"\n",
    "concat_transcripts = pd.read_csv(\"../04_Interview CSV/\"+project_id+\"/\"+project_id+\"-merged.csv\")\n",
    "transcript_lines = match_script_with_transcript(script_path, concat_transcripts)\n",
    "print(transcript_lines)\n",
    "\n"
   ]
  },
  {
   "cell_type": "code",
   "execution_count": 113,
   "id": "340327d0",
   "metadata": {},
   "outputs": [
    {
     "name": "stdout",
     "output_type": "stream",
     "text": [
      "CSV file with speaker, start time, end time, duration, and matched transcript created at ../01_Scripts/Test/CSV/wolunka-test.csv.\n"
     ]
    }
   ],
   "source": [
    "# Function to write matched transcript to CSV (unchanged)\n",
    "def write_matched_transcript_to_csv(transcript_lines, output_csv_path):\n",
    "    with open(output_csv_path, \"w\", newline=\"\") as csvfile:\n",
    "        fieldnames = [\"Speaker\", \"Interview\",\"Start Time\", \"End Time\", \"Duration (Seconds)\", \"Transcript\"]\n",
    "        writer = csv.DictWriter(csvfile, fieldnames=fieldnames)\n",
    "        writer.writeheader()\n",
    "\n",
    "        for line in transcript_lines:\n",
    "            speaker, interview, start_time_mmss, end_time_mmss, duration_seconds, text = line\n",
    "            writer.writerow({\"Speaker\": speaker,\"Interview\":interview, \"Start Time\": start_time_mmss, \"End Time\": end_time_mmss, \"Duration (Seconds)\": duration_seconds, \"Transcript\": text})\n",
    "\n",
    "write_matched_transcript_to_csv(transcript_lines, output_csv_path)\n",
    "print(f\"CSV file with speaker, start time, end time, duration, and matched transcript created at {output_csv_path}.\")\n",
    "\n",
    "            \n",
    "output_csv_path=\"../01_Scripts/\"+project_id+\"/CSV/\"+script_title+\".csv\"\n",
    "write_matched_transcript_to_csv(transcript_lines, output_csv_path)"
   ]
  }
 ],
 "metadata": {
  "kernelspec": {
   "display_name": "Python 3 (ipykernel)",
   "language": "python",
   "name": "python3"
  },
  "language_info": {
   "codemirror_mode": {
    "name": "ipython",
    "version": 3
   },
   "file_extension": ".py",
   "mimetype": "text/x-python",
   "name": "python",
   "nbconvert_exporter": "python",
   "pygments_lexer": "ipython3",
   "version": "3.10.6"
  }
 },
 "nbformat": 4,
 "nbformat_minor": 5
}
