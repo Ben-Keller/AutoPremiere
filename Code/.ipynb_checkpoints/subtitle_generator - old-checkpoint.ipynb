{
 "cells": [
  {
   "cell_type": "code",
   "execution_count": 10,
   "metadata": {},
   "outputs": [],
   "source": [
    "import csv\n",
    "import datetime\n",
    "import re\n",
    "from datetime import timedelta\n",
    "\n",
    "def time_to_srt_format(time):\n",
    "    return str(datetime.timedelta(seconds=time)).split('.')[0]\n",
    "\n",
    "def time_difference(time_str):\n",
    "    start, end = time_str.split(' - ')\n",
    "    try:\n",
    "        FMT = \"%H:%M:%S.%f\"\n",
    "        tdelta = datetime.datetime.strptime(end, FMT) - datetime.datetime.strptime(start, FMT)\n",
    "    except ValueError:\n",
    "        try:\n",
    "            FMT = \"%H:%M:%S\"\n",
    "            tdelta = datetime.datetime.strptime(end, FMT) - datetime.datetime.strptime(start, FMT)\n",
    "        except ValueError:\n",
    "            return 0\n",
    "    return tdelta.total_seconds()\n",
    "\n",
    "def clean_text(text):\n",
    "    # Remove special characters from the text\n",
    "    cleaned_text = re.sub(r\"[^\\w\\s]\", \"\", text)\n",
    "    return cleaned_text\n",
    "\n",
    "\n",
    "csv_file=\"../\"\n",
    "\n",
    "with open(csv_file, 'r') as csv_file, open('../subtitle.srt', 'w') as srt_file:\n",
    "    csv_reader = csv.reader(csv_file)\n",
    "    next(csv_reader)  # Skip header\n",
    "    counter = 1\n",
    "    last_time = 0\n",
    "    for row in csv_reader:\n",
    "        srt_file.write(str(counter) + '\\n')\n",
    "        if row[3]:  # If Timecode Range is not empty\n",
    "            start_time, end_time = row[3].split(' - ')\n",
    "            time_diff = time_difference(row[3])\n",
    "            start_seconds = last_time\n",
    "            end_seconds = last_time + time_diff\n",
    "            last_time = end_seconds\n",
    "            start_time = time_to_srt_format(start_seconds)\n",
    "            end_time = time_to_srt_format(end_seconds)\n",
    "            srt_file.write(start_time + ',000 --> ' + end_time + ',000\\n')\n",
    "        else:\n",
    "            start_time = time_to_srt_format(last_time)  # Start time based on last saved end time\n",
    "            last_time += 5  # Add 5 seconds to the last known time\n",
    "            end_time = time_to_srt_format(last_time)\n",
    "            srt_file.write(start_time + ',000 --> ' + end_time + ',000\\n')\n",
    "        srt_file.write(clean_text(row[0]) + '\\n\\n')  # Cleaned text\n",
    "        counter += 1\n"
   ]
  }
 ],
 "metadata": {
  "kernelspec": {
   "display_name": "Python 3 (ipykernel)",
   "language": "python",
   "name": "python3"
  },
  "language_info": {
   "codemirror_mode": {
    "name": "ipython",
    "version": 3
   },
   "file_extension": ".py",
   "mimetype": "text/x-python",
   "name": "python",
   "nbconvert_exporter": "python",
   "pygments_lexer": "ipython3",
   "version": "3.10.6"
  }
 },
 "nbformat": 4,
 "nbformat_minor": 2
}
